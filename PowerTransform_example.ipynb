{
 "cells": [
  {
   "cell_type": "code",
   "execution_count": 2,
   "metadata": {},
   "outputs": [
    {
     "name": "stdout",
     "output_type": "stream",
     "text": [
      "Transformed Data for yeo-johnson:\n",
      "[[-1.42437537 -1.40883551 -1.39869432]\n",
      " [-0.34726726 -0.36844754 -0.38171452]\n",
      " [ 0.51085366  0.50130354  0.49459072]\n",
      " [ 1.26078896  1.2759795   1.28581812]]\n",
      "Transformed Data for box-cox :\n",
      "[[-1.4532513  -1.42437537 -1.40883552]\n",
      " [-0.30530445 -0.34726726 -0.36844752]\n",
      " [ 0.5267224   0.51085366  0.50130355]\n",
      " [ 1.23183334  1.26078896  1.27597949]]\n"
     ]
    }
   ],
   "source": [
    "from sklearn.preprocessing import PowerTransformer\n",
    "import numpy as np\n",
    "\n",
    "# Sample data with skewness\n",
    "data = np.array([[1, 2, 3], [4, 5, 6], [7, 8, 9], [10, 11, 12]])\n",
    "\n",
    "# Applying Power Transform\n",
    "scaler = PowerTransformer(method='yeo-johnson')  # or method='box-cox' for Box-Cox\n",
    "transformed_data = scaler.fit_transform(data)\n",
    "\n",
    "print(\"Transformed Data for yeo-johnson:\")\n",
    "print(transformed_data)\n",
    "\n",
    "\n",
    "# Applying Power Transform\n",
    "scaler = PowerTransformer(method='box-cox')  # or method='box-cox' for Box-Cox\n",
    "transformed_data = scaler.fit_transform(data)\n",
    "\n",
    "print(\"Transformed Data for box-cox :\")\n",
    "print(transformed_data)"
   ]
  },
  {
   "cell_type": "markdown",
   "metadata": {},
   "source": [
    "# Explanation\n",
    "\n",
    "* **Purpose:**\n",
    "\n",
    "* To reduce skewness in data, making it closer to a normal distribution.\n",
    "* To stabilize variance, which can help with algorithms that are sensitive to differences in variance.\n",
    "* It can improve the performance of models like linear regression, logistic regression, and other models that assume normality in the data."
   ]
  },
  {
   "cell_type": "markdown",
   "metadata": {},
   "source": [
    "## Box-Cox Transformation:\n",
    "\n",
    "* It’s defined for positive values of data.\n",
    "* The transformation applies a power to the data, and the parameter (lambda) controls the amount of transformation applied.\n",
    "\n",
    "### Formula\n",
    "\n",
    "\n",
    "![alt text](images/box-cox-transform.png \"Title\")\n"
   ]
  },
  {
   "cell_type": "markdown",
   "metadata": {},
   "source": [
    "## Yeo-Johnson Transformation:\n",
    "\n",
    "* It’s an extension of Box-Cox, and it can handle both positive and negative values.\n",
    "\n",
    "![alt text](images/yeo-johnson-transform.png \"Title\")"
   ]
  },
  {
   "cell_type": "markdown",
   "metadata": {},
   "source": [
    "## Why Apply a Power Transform in ML?\n",
    "* Improved Model Performance: Some algorithms, like linear regression and logistic regression, can perform poorly when the data is highly skewed. Transforming the data can help these algorithms by making the relationships between features and target variables more linear.\n",
    "* Handling Outliers: The transformation can make the data less sensitive to outliers, particularly for highly skewed distributions.\n",
    "* Improving Homoscedasticity: This refers to the constant variance of residuals in regression models, and power transforms can help achieve this."
   ]
  },
  {
   "cell_type": "markdown",
   "metadata": {},
   "source": [
    "# When to Avoid:\n",
    "* When your data is already well-behaved (close to normal).\n",
    "* For some models (like decision trees), the transformation may not significantly improve performance."
   ]
  },
  {
   "cell_type": "markdown",
   "metadata": {},
   "source": [
    "# Method of dealing with imbalance data"
   ]
  }
 ],
 "metadata": {
  "kernelspec": {
   "display_name": "Python 3",
   "language": "python",
   "name": "python3"
  },
  "language_info": {
   "codemirror_mode": {
    "name": "ipython",
    "version": 3
   },
   "file_extension": ".py",
   "mimetype": "text/x-python",
   "name": "python",
   "nbconvert_exporter": "python",
   "pygments_lexer": "ipython3",
   "version": "3.8.5"
  }
 },
 "nbformat": 4,
 "nbformat_minor": 4
}
